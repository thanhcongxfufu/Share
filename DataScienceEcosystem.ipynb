{
 "cells": [
  {
   "cell_type": "markdown",
   "id": "2c466c6c-864c-429f-ba2a-39dcd97e67f5",
   "metadata": {},
   "source": [
    "# Data Science Tools and Ecosystem"
   ]
  },
  {
   "cell_type": "markdown",
   "id": "b7528992-cb35-47e9-a965-9f7403eb1809",
   "metadata": {},
   "source": [
    "In this notebook, Data Science Tools and Ecosystem are summarized."
   ]
  },
  {
   "cell_type": "markdown",
   "id": "523e869b-31cd-4143-88e2-d6d8a1a58929",
   "metadata": {},
   "source": [
    "Some of the popular languages that Data Scientists use are:\n",
    "1. Python\n",
    "2. R\n",
    "3. Scala\n",
    "4. C+++\n",
    "5. Julia"
   ]
  },
  {
   "cell_type": "markdown",
   "id": "4ac947d8-9b73-4b47-8824-44aadc3f4b90",
   "metadata": {},
   "source": [
    "Some of the commonly used libraries used by Data Scientists include:\n",
    "1. pandas\n",
    "2. sklearn\n",
    "3. matplotlib\n",
    "4. seaborn"
   ]
  },
  {
   "cell_type": "markdown",
   "id": "327e0eec-047f-4c1b-be16-2154a9463544",
   "metadata": {},
   "source": [
    "| Data Science Tools |\n",
    "| ----- |\n",
    "| Jupyter Notebooks |\n",
    "| Rstudio |\n",
    "| TensorFlow |"
   ]
  },
  {
   "cell_type": "markdown",
   "id": "12888ccb-6fde-4414-a864-d2a9f1e80a76",
   "metadata": {},
   "source": [
    "### Below are a few examples of evaluating arithmetic expressions in Python"
   ]
  },
  {
   "cell_type": "code",
   "execution_count": 1,
   "id": "0cda7972-1d91-4099-868f-97cb882f022b",
   "metadata": {
    "tags": []
   },
   "outputs": [
    {
     "data": {
      "text/plain": [
       "17"
      ]
     },
     "execution_count": 1,
     "metadata": {},
     "output_type": "execute_result"
    }
   ],
   "source": [
    "# This a simple arithmetic expression to mutiply then add integers\n",
    "(3*4)+5"
   ]
  },
  {
   "cell_type": "code",
   "execution_count": 2,
   "id": "ced3f0a3-baa9-43b5-b877-0c657a79b72f",
   "metadata": {
    "tags": []
   },
   "outputs": [
    {
     "data": {
      "text/plain": [
       "3.3333333333333335"
      ]
     },
     "execution_count": 2,
     "metadata": {},
     "output_type": "execute_result"
    }
   ],
   "source": [
    "# This will convert 200 minutes to hours by diving by 60\n",
    "200/60"
   ]
  },
  {
   "cell_type": "markdown",
   "id": "517f67df-590a-4555-8704-63fd62b3d283",
   "metadata": {},
   "source": [
    "**Objectives:**\n",
    "- List of some most popular data science languages.\n",
    "- List of some most commonly used libraries in data science.\n",
    "- List of some most widely used open-source development environment for data science."
   ]
  },
  {
   "cell_type": "markdown",
   "id": "92f9240d-0d68-43b9-8963-72d19cb7654a",
   "metadata": {},
   "source": [
    "## Author\n",
    "Nguyen Phuong Thao"
   ]
  }
 ],
 "metadata": {
  "kernelspec": {
   "display_name": "Python",
   "language": "python",
   "name": "conda-env-python-py"
  },
  "language_info": {
   "codemirror_mode": {
    "name": "ipython",
    "version": 3
   },
   "file_extension": ".py",
   "mimetype": "text/x-python",
   "name": "python",
   "nbconvert_exporter": "python",
   "pygments_lexer": "ipython3",
   "version": "3.7.12"
  }
 },
 "nbformat": 4,
 "nbformat_minor": 5
}
